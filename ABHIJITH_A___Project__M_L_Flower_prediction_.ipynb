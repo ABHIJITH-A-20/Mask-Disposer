{
  "nbformat": 4,
  "nbformat_minor": 0,
  "metadata": {
    "colab": {
      "name": "ABHIJITH_A___Project__M_L_Flower_prediction_.ipynb",
      "provenance": [],
      "include_colab_link": true
    },
    "kernelspec": {
      "name": "python3",
      "display_name": "Python 3"
    }
  },
  "cells": [
    {
      "cell_type": "markdown",
      "metadata": {
        "id": "view-in-github",
        "colab_type": "text"
      },
      "source": [
        "<a href=\"https://colab.research.google.com/github/ABHIJITH-A-20/Mask-Disposer/blob/main/ABHIJITH_A___Project__M_L_Flower_prediction_.ipynb\" target=\"_parent\"><img src=\"https://colab.research.google.com/assets/colab-badge.svg\" alt=\"Open In Colab\"/></a>"
      ]
    },
    {
      "cell_type": "markdown",
      "metadata": {
        "id": "drhqMTpzsqlP"
      },
      "source": [
        "Machine to determine the type of flower if the inputs of sepal length,sepal width, petal length, petal width in CM is provided"
      ]
    },
    {
      "cell_type": "code",
      "metadata": {
        "colab": {
          "base_uri": "https://localhost:8080/"
        },
        "id": "qCXRKrVEaDM3",
        "outputId": "52798e5a-e31b-4730-8ec2-6c7760d2f16e"
      },
      "source": [
        "import pandas as pa\r\n",
        "import numpy as np\r\n",
        "\r\n",
        "from sklearn.datasets import load_iris\r\n",
        "iris_dataset = load_iris()\r\n",
        "\r\n",
        "from sklearn.model_selection import train_test_split\r\n",
        "\r\n",
        "X_train, X_test, y_train, y_test = train_test_split(\r\n",
        "    iris_dataset['data'],iris_dataset['target'], random_state=0)\r\n",
        "\r\n",
        "from sklearn.neighbors import KNeighborsClassifier\r\n",
        "\r\n",
        "knn = KNeighborsClassifier(n_neighbors=1)\r\n",
        "\r\n",
        "knn.fit(X_train, y_train)\r\n",
        "\r\n",
        "print(\"provide the necessary information regarding the flower \"\r\n",
        "\"in CM \\n  and i will tell you to which family they belong to \\n\")\r\n",
        "\r\n",
        "\r\n",
        "X_new = np.array([[0.0,0.0,0.0,0.0]])\r\n",
        "for i in range(0,4):\r\n",
        "  if i == 0:\r\n",
        "    X_new[0,i] = input(\"sepal length (cm) : \")\r\n",
        "  if i == 1:\r\n",
        "    X_new[0,i]  = input('sepal width (cm)  : ')\r\n",
        "  if i == 2:\r\n",
        "    X_new[0,i]  = input('petal length (cm) : ')\r\n",
        "  if i == 3:\r\n",
        "    X_new[0,i]  = input('petal width (cm)  : ')\r\n",
        "\r\n",
        "prediction = knn.predict(X_new)\r\n",
        "\r\n",
        "print(\" \\n From the given data it's a : {}\".format(iris_dataset[\r\n",
        "                                                        'target_names']\r\n",
        "                                         [prediction]))"
      ],
      "execution_count": null,
      "outputs": [
        {
          "output_type": "stream",
          "text": [
            "provide the necessary information regarding the flower in CM \n",
            "  and i will tell you to which family they belong to \n",
            "\n",
            "sepal length (cm) : 5\n",
            "sepal width (cm)  : 2.9\n",
            "petal length (cm) : 1\n",
            "petal width (cm)  : 0.2\n",
            " \n",
            " From the given data it's a : ['setosa']\n"
          ],
          "name": "stdout"
        }
      ]
    }
  ]
}